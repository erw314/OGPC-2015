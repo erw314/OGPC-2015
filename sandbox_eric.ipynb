{
 "metadata": {
  "name": "",
  "signature": "sha256:0c0e0282d1c4d9e5849ef4ed97f835115a42e08c72c0c22043fdb096e062a5ed"
 },
 "nbformat": 3,
 "nbformat_minor": 0,
 "worksheets": [
  {
   "cells": [
    {
     "cell_type": "code",
     "collapsed": false,
     "input": [
      "import numpy as np\n",
      "import matplotlib.pyplot as plt\n",
      "import csv\n",
      "import os"
     ],
     "language": "python",
     "metadata": {},
     "outputs": [],
     "prompt_number": 1
    },
    {
     "cell_type": "heading",
     "level": 1,
     "metadata": {},
     "source": [
      "Grab training/test data from csv."
     ]
    },
    {
     "cell_type": "code",
     "collapsed": false,
     "input": [
      "training_features = []\n",
      "training_labels = []\n",
      "with open('../train.csv', 'r') as f:\n",
      "    reader = csv.reader(f)\n",
      "    reader.next()\n",
      "    for n in reader:\n",
      "        training_features.append(n[1:-1])\n",
      "        training_labels.append(n[-1])\n",
      "training_features = np.array([[float(n) for n in m] for m in training_features])\n",
      "\n",
      "print training_features[:2]\n",
      "print training_labels[:2]"
     ],
     "language": "python",
     "metadata": {},
     "outputs": [
      {
       "output_type": "stream",
       "stream": "stdout",
       "text": [
        "[[  1.   0.   0.   0.   0.   0.   0.   0.   0.   0.   1.   0.   0.   0.\n",
        "    0.   0.   2.   0.   0.   0.   0.   1.   0.   4.   1.   1.   0.   0.\n",
        "    2.   0.   0.   0.   0.   0.   1.   0.   0.   0.   0.   1.   0.   5.\n",
        "    0.   0.   0.   0.   0.   2.   0.   0.   0.   0.   0.   1.   0.   0.\n",
        "    2.   0.   0.  11.   0.   1.   1.   0.   1.   0.   7.   0.   0.   0.\n",
        "    1.   0.   0.   0.   0.   0.   0.   0.   2.   1.   0.   0.   0.   0.\n",
        "    1.   0.   0.   0.   0.   0.   0.   0.   0.]\n",
        " [  0.   0.   0.   0.   0.   0.   0.   1.   0.   0.   0.   0.   0.   0.\n",
        "    0.   0.   0.   2.   0.   0.   0.   0.   0.   0.   0.   0.   0.   0.\n",
        "    0.   0.   0.   0.   0.   0.   0.   0.   1.   0.   0.   0.   0.   0.\n",
        "    0.   0.   0.   0.   0.   0.   0.   0.   0.   0.   0.   0.   0.   0.\n",
        "    0.   1.   0.   0.   0.   0.   0.   1.   0.   0.   1.   0.   0.   0.\n",
        "    0.   0.   2.   1.   0.   1.   0.   1.   0.   0.   0.   0.   0.   0.\n",
        "    0.   0.   0.   0.   0.   0.   0.   0.   0.]]\n",
        "['Class_1', 'Class_1']\n"
       ]
      }
     ],
     "prompt_number": 2
    },
    {
     "cell_type": "code",
     "collapsed": false,
     "input": [
      "submit_features = []\n",
      "with open('../test.csv', 'r') as f:\n",
      "    reader = csv.reader(f)\n",
      "    reader.next()\n",
      "    for n in reader:\n",
      "        submit_features.append(n[1:])\n",
      "submit_features = np.array([[float(n) for n in m] for m in submit_features])\n",
      "\n",
      "print submit_features[:2]"
     ],
     "language": "python",
     "metadata": {},
     "outputs": [
      {
       "output_type": "stream",
       "stream": "stdout",
       "text": [
        "[[  0.   0.   0.   0.   0.   0.   0.   0.   0.   3.   0.   0.   0.   3.\n",
        "    2.   1.   0.   0.   0.   0.   0.   0.   0.   5.   3.   1.   1.   0.\n",
        "    0.   0.   0.   0.   1.   0.   0.   1.   0.   1.   0.   1.   0.   0.\n",
        "    0.   0.   0.   0.   0.   0.   0.   0.   0.   0.   0.   0.   0.   0.\n",
        "    0.   0.   0.   0.   0.   0.   0.   3.   0.   0.   0.   0.   1.   1.\n",
        "    0.   1.   0.   0.   0.   0.   0.   0.   0.   0.   0.   0.   0.   0.\n",
        "    0.  11.   1.  20.   0.   0.   0.   0.   0.]\n",
        " [  2.   2.  14.  16.   0.   0.   0.   0.   0.   0.   0.   0.   0.   0.\n",
        "    2.   2.   0.   0.   0.   0.   0.   2.   0.   4.   0.   4.   0.   0.\n",
        "    0.   0.   2.   0.   0.   0.   8.   0.   0.   0.   0.   0.   0.   0.\n",
        "    0.   2.   0.   4.   0.   4.   0.   0.   0.   0.   0.  24.   0.   0.\n",
        "    0.   0.   0.   0.   0.   0.   0.   6.   8.   0.   0.   0.   0.   0.\n",
        "    0.   0.   0.   0.   0.   0.   2.   0.   0.   4.   0.   2.   0.   0.\n",
        "    0.   0.   0.   0.   4.   0.   0.   2.   0.]]\n"
       ]
      }
     ],
     "prompt_number": 3
    },
    {
     "cell_type": "code",
     "collapsed": false,
     "input": [
      "n, d = training_features.shape\n",
      "# for i in range(d):\n",
      "    # print max(training_features[:, i])\n",
      "print n, d"
     ],
     "language": "python",
     "metadata": {},
     "outputs": [
      {
       "output_type": "stream",
       "stream": "stdout",
       "text": [
        "61878 93\n"
       ]
      }
     ],
     "prompt_number": 4
    },
    {
     "cell_type": "code",
     "collapsed": false,
     "input": [
      "def normalize(array, bounds=[0, 1]):\n",
      "    return np.array([float(n-min(array))/(max(array)-min(array))*(bounds[1]-bounds[0])+bounds[0] for n in array])"
     ],
     "language": "python",
     "metadata": {},
     "outputs": [],
     "prompt_number": 32
    },
    {
     "cell_type": "code",
     "collapsed": false,
     "input": [
      "def decision_to_proba(array):\n",
      "    proba = normalize(array)\n",
      "    return np.array([float(n)/sum(proba) for n in proba])"
     ],
     "language": "python",
     "metadata": {},
     "outputs": [],
     "prompt_number": 45
    },
    {
     "cell_type": "code",
     "collapsed": false,
     "input": [
      "# random subset of training examples since there are way too many\n",
      "k = 10000\n",
      "\n",
      "matrix = np.random.permutation(zip(training_features, training_labels))[:k]\n",
      "training_features_sub = np.array([n[0] for n in matrix])\n",
      "training_labels_sub = np.array([n[1] for n in matrix])"
     ],
     "language": "python",
     "metadata": {},
     "outputs": [],
     "prompt_number": 103
    },
    {
     "cell_type": "heading",
     "level": 1,
     "metadata": {},
     "source": [
      "One Vs All classifier."
     ]
    },
    {
     "cell_type": "code",
     "collapsed": false,
     "input": [
      "# using LinearSVC because other svms use one vs one classifier\n",
      "from sklearn.multiclass import OneVsRestClassifier\n",
      "from sklearn.svm import LinearSVC, SVC\n",
      "\n",
      "ovac = OneVsRestClassifier(LinearSVC())\n",
      "ovac.fit(training_features_sub, training_labels_sub)\n",
      "ovac_score = ovac.score(training_features_sub, training_labels_sub)\n",
      "\n",
      "print ovac_score"
     ],
     "language": "python",
     "metadata": {},
     "outputs": [
      {
       "output_type": "stream",
       "stream": "stdout",
       "text": [
        "0.7552\n"
       ]
      }
     ],
     "prompt_number": 110
    },
    {
     "cell_type": "code",
     "collapsed": false,
     "input": [
      "ovac_predict = ovac.predict(submit_features)"
     ],
     "language": "python",
     "metadata": {},
     "outputs": [],
     "prompt_number": 105
    },
    {
     "cell_type": "code",
     "collapsed": false,
     "input": [
      "ovac_decision = ovac.decision_function(submit_features)\n",
      "ovac_proba = np.array([decision_to_proba(n) for n in ovac_decision])"
     ],
     "language": "python",
     "metadata": {},
     "outputs": [],
     "prompt_number": 111
    },
    {
     "cell_type": "code",
     "collapsed": false,
     "input": [
      "len(ovac_proba[0])"
     ],
     "language": "python",
     "metadata": {},
     "outputs": [
      {
       "metadata": {},
       "output_type": "pyout",
       "prompt_number": 127,
       "text": [
        "9"
       ]
      }
     ],
     "prompt_number": 127
    },
    {
     "cell_type": "code",
     "collapsed": false,
     "input": [
      "np.mean(sorted([max(n) for n in ovac_proba], reverse=True)[:1000])"
     ],
     "language": "python",
     "metadata": {},
     "outputs": [
      {
       "metadata": {},
       "output_type": "pyout",
       "prompt_number": 126,
       "text": [
        "0.66745239877112339"
       ]
      }
     ],
     "prompt_number": 126
    },
    {
     "cell_type": "heading",
     "level": 3,
     "metadata": {},
     "source": [
      "Write submission file."
     ]
    },
    {
     "cell_type": "code",
     "collapsed": false,
     "input": [
      "submit_matrix = [[i+1]+[n for n in ovac_proba[i]] for i in range(len(ovac_proba))]"
     ],
     "language": "python",
     "metadata": {},
     "outputs": [],
     "prompt_number": 131
    },
    {
     "cell_type": "code",
     "collapsed": false,
     "input": [
      "# submit_matrix = None\n",
      "header_text = ['id', 'Class_1', 'Class_2', 'Class_3', 'Class_4', 'Class_5', 'Class_6', 'Class_7', 'Class_8', 'Class_9']\n",
      "with open('../submission_ova.csv', 'wb') as f:\n",
      "    writer = csv.writer(f)\n",
      "    writer.writerow(header_text)\n",
      "    for n in submit_matrix:\n",
      "        writer.writerow(n)"
     ],
     "language": "python",
     "metadata": {},
     "outputs": [],
     "prompt_number": 132
    },
    {
     "cell_type": "heading",
     "level": 1,
     "metadata": {},
     "source": [
      "One Vs One classifier."
     ]
    },
    {
     "cell_type": "code",
     "collapsed": false,
     "input": [
      "# using LinearSVC because other svms use one vs one classifier\n",
      "from sklearn.multiclass import OneVsOneClassifier\n",
      "from sklearn.svm import SVC\n",
      "\n",
      "ovoc = OneVsOneClassifier(SVC(probability=True))\n",
      "ovoc.fit(training_features_sub, training_labels_sub)\n",
      "# ovoc_score = ovoc.score(training_features_sub, training_labels_sub)\n",
      "\n",
      "# print ovoc_score"
     ],
     "language": "python",
     "metadata": {},
     "outputs": [
      {
       "metadata": {},
       "output_type": "pyout",
       "prompt_number": 156,
       "text": [
        "OneVsOneClassifier(estimator=SVC(C=1.0, cache_size=200, class_weight=None, coef0=0.0, degree=3, gamma=0.0,\n",
        "  kernel='rbf', max_iter=-1, probability=True, random_state=None,\n",
        "  shrinking=True, tol=0.001, verbose=False),\n",
        "          n_jobs=1)"
       ]
      }
     ],
     "prompt_number": 156
    },
    {
     "cell_type": "markdown",
     "metadata": {},
     "source": [
      "Some reason, neither predict_proba nor decision_function work with one vs one. Currently abandoning."
     ]
    },
    {
     "cell_type": "code",
     "collapsed": false,
     "input": [
      "ovoc.predict_proba(submit_features)"
     ],
     "language": "python",
     "metadata": {},
     "outputs": []
    },
    {
     "cell_type": "heading",
     "level": 1,
     "metadata": {},
     "source": []
    }
   ],
   "metadata": {}
  }
 ]
}