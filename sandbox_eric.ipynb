{
 "metadata": {
  "name": "",
  "signature": "sha256:f234a5f38252852bca8ec91b1cf3ece21233dff941d0ccd38e8a18df33e6f31a"
 },
 "nbformat": 3,
 "nbformat_minor": 0,
 "worksheets": [
  {
   "cells": [
    {
     "cell_type": "code",
     "collapsed": false,
     "input": [
      "import numpy as np\n",
      "import matplotlib.pyplot as plt\n",
      "import csv\n",
      "import os"
     ],
     "language": "python",
     "metadata": {},
     "outputs": [],
     "prompt_number": 3
    },
    {
     "cell_type": "code",
     "collapsed": false,
     "input": [
      "training_features = []\n",
      "training_labels = []\n",
      "with open('../train.csv') as f:\n",
      "    reader = csv.reader(f)\n",
      "    reader.next()\n",
      "    for n in reader:\n",
      "        training_features.append(n[1:-1])\n",
      "        training_labels.append(n[-1])\n",
      "training_features = np.array([[int(n) for n in m] for m in training_features])\n",
      "\n",
      "print training_features[:2]\n",
      "print training_labels[:2]"
     ],
     "language": "python",
     "metadata": {},
     "outputs": [
      {
       "output_type": "stream",
       "stream": "stdout",
       "text": [
        "[[ 1  0  0  0  0  0  0  0  0  0  1  0  0  0  0  0  2  0  0  0  0  1  0  4\n",
        "   1  1  0  0  2  0  0  0  0  0  1  0  0  0  0  1  0  5  0  0  0  0  0  2\n",
        "   0  0  0  0  0  1  0  0  2  0  0 11  0  1  1  0  1  0  7  0  0  0  1  0\n",
        "   0  0  0  0  0  0  2  1  0  0  0  0  1  0  0  0  0  0  0  0  0]\n",
        " [ 0  0  0  0  0  0  0  1  0  0  0  0  0  0  0  0  0  2  0  0  0  0  0  0\n",
        "   0  0  0  0  0  0  0  0  0  0  0  0  1  0  0  0  0  0  0  0  0  0  0  0\n",
        "   0  0  0  0  0  0  0  0  0  1  0  0  0  0  0  1  0  0  1  0  0  0  0  0\n",
        "   2  1  0  1  0  1  0  0  0  0  0  0  0  0  0  0  0  0  0  0  0]]\n",
        "['Class_1', 'Class_1']\n"
       ]
      }
     ],
     "prompt_number": 7
    },
    {
     "cell_type": "code",
     "collapsed": false,
     "input": [],
     "language": "python",
     "metadata": {},
     "outputs": []
    }
   ],
   "metadata": {}
  }
 ]
}