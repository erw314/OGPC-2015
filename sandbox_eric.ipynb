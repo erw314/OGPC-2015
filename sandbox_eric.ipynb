{
 "metadata": {
  "name": "",
  "signature": "sha256:263192ece4fa6e065050d7a7abae0ea85e0fbdea7f2aded4dea23eea6e661985"
 },
 "nbformat": 3,
 "nbformat_minor": 0,
 "worksheets": [
  {
   "cells": [
    {
     "cell_type": "code",
     "collapsed": false,
     "input": [
      "import numpy as np\n",
      "import matplotlib.pyplot as plt\n",
      "import csv\n",
      "import os"
     ],
     "language": "python",
     "metadata": {},
     "outputs": [],
     "prompt_number": 1
    },
    {
     "cell_type": "code",
     "collapsed": false,
     "input": [
      "training_features = []\n",
      "training_labels = []\n",
      "with open('../train.csv') as f:\n",
      "    reader = csv.reader(f)\n",
      "    reader.next()\n",
      "    for n in reader:\n",
      "        training_features.append(n[1:-1])\n",
      "        training_labels.append(n[-1])\n",
      "training_features = np.array([[float(n) for n in m] for m in training_features])\n",
      "\n",
      "print training_features[:2]\n",
      "print training_labels[:2]"
     ],
     "language": "python",
     "metadata": {},
     "outputs": [
      {
       "output_type": "stream",
       "stream": "stdout",
       "text": [
        "[[  1.   0.   0.   0.   0.   0.   0.   0.   0.   0.   1.   0.   0.   0.\n",
        "    0.   0.   2.   0.   0.   0.   0.   1.   0.   4.   1.   1.   0.   0.\n",
        "    2.   0.   0.   0.   0.   0.   1.   0.   0.   0.   0.   1.   0.   5.\n",
        "    0.   0.   0.   0.   0.   2.   0.   0.   0.   0.   0.   1.   0.   0.\n",
        "    2.   0.   0.  11.   0.   1.   1.   0.   1.   0.   7.   0.   0.   0.\n",
        "    1.   0.   0.   0.   0.   0.   0.   0.   2.   1.   0.   0.   0.   0.\n",
        "    1.   0.   0.   0.   0.   0.   0.   0.   0.]\n",
        " [  0.   0.   0.   0.   0.   0.   0.   1.   0.   0.   0.   0.   0.   0.\n",
        "    0.   0.   0.   2.   0.   0.   0.   0.   0.   0.   0.   0.   0.   0.\n",
        "    0.   0.   0.   0.   0.   0.   0.   0.   1.   0.   0.   0.   0.   0.\n",
        "    0.   0.   0.   0.   0.   0.   0.   0.   0.   0.   0.   0.   0.   0.\n",
        "    0.   1.   0.   0.   0.   0.   0.   1.   0.   0.   1.   0.   0.   0.\n",
        "    0.   0.   2.   1.   0.   1.   0.   1.   0.   0.   0.   0.   0.   0.\n",
        "    0.   0.   0.   0.   0.   0.   0.   0.   0.]]\n",
        "['Class_1', 'Class_1']\n"
       ]
      }
     ],
     "prompt_number": 6
    },
    {
     "cell_type": "code",
     "collapsed": false,
     "input": [
      "n, d = training_features.shape\n",
      "# for i in range(d):\n",
      "    # print max(training_features[:, i])\n",
      "print n, d"
     ],
     "language": "python",
     "metadata": {},
     "outputs": [
      {
       "output_type": "stream",
       "stream": "stdout",
       "text": [
        "61878 93\n"
       ]
      }
     ],
     "prompt_number": 21
    },
    {
     "cell_type": "code",
     "collapsed": false,
     "input": [
      "import sklearn.preprocessing as skp\n",
      "\n",
      "norm_training_features = skp.normalize(training_features, axis=0)"
     ],
     "language": "python",
     "metadata": {},
     "outputs": [],
     "prompt_number": 9
    },
    {
     "cell_type": "code",
     "collapsed": false,
     "input": [
      "# random subset of training examples since there are way too many\n",
      "k = 10000\n",
      "\n",
      "matrix = np.random.permutation(zip(training_features, training_labels))[:k]\n",
      "training_features_sub = np.array([n[0] for n in matrix])\n",
      "training_labels_sub = np.array([n[1] for n in matrix])"
     ],
     "language": "python",
     "metadata": {},
     "outputs": [],
     "prompt_number": 36
    },
    {
     "cell_type": "code",
     "collapsed": false,
     "input": [
      "from sklearn.multiclass import OneVsRestClassifier\n",
      "from sklearn.svm import LinearSVC\n",
      "\n",
      "ovac = OneVsRestClassifier(LinearSVC())\n",
      "ovac.fit(training_features_sub, training_labels_sub)\n",
      "ovac_score = ovac.score(training_features_sub, training_labels_sub)\n",
      "\n",
      "print ovac_score"
     ],
     "language": "python",
     "metadata": {},
     "outputs": [
      {
       "output_type": "stream",
       "stream": "stdout",
       "text": [
        "0.7646\n"
       ]
      }
     ],
     "prompt_number": 37
    },
    {
     "cell_type": "code",
     "collapsed": false,
     "input": [],
     "language": "python",
     "metadata": {},
     "outputs": []
    }
   ],
   "metadata": {}
  }
 ]
}